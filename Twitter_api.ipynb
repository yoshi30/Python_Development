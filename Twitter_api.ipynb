{
 "cells": [
  {
   "cell_type": "markdown",
   "metadata": {},
   "source": [
    "# TwitterAPIを利用する\n",
    "\n",
    "## APIを利用するにあたってやること\n",
    "* macの場合：システム環境設定->日付と時刻　から自動的に設定するURLを ntp.jst.mfeed.ad.jp にする.\n",
    "* http://app.twitter.com でアプリケーションを作成\n",
    "    * website callback　のURLも適当でいいので必ず記入する\n",
    "* アクセストークンを作成する\n",
    "* requests_oauthlib ライブラリをインストールする\n",
    "    * $ pip install requests_oauthlib など \n",
    "* アプリのconsumer_keyやaccess_tokenを使って実装をする.\n",
    "\n",
    "## やること\n",
    "* タイムラインを取得してみる\n",
    "* タイムラインにツイートしてみる\n",
    "* タイムラインから特定のコメントがあるツイートのみを取得する\n",
    "* 特定のユーザーのツイートを取得してくる\n",
    "\n",
    "## 参考サイト\n",
    "* Twitterアプリでの操作方法など：http://qiita.com/konojunya/items/59a68d35e44db8b87186\n",
    "* 実装コードなど：http://qiita.com/yubais/items/dd143fe608ccad8e9f85\n",
    "\n",
    "## その他のライブラリに関して\n",
    "Tweepyなど,pythonライブラリの中にはTwitterAPIを簡単に使えるようなものがあります.  \n",
    "よかったら使ってみてください.\n",
    "http://www.statsbeginner.net/entry/2015/10/21/131717"
   ]
  },
  {
   "cell_type": "markdown",
   "metadata": {},
   "source": [
    "## タイムラインに表示されているツイート内容とファボ数を表示"
   ]
  },
  {
   "cell_type": "code",
   "execution_count": 1,
   "metadata": {},
   "outputs": [
    {
     "ename": "KeyError",
     "evalue": "'TWITTER_COSUMER_KEY'",
     "output_type": "error",
     "traceback": [
      "\u001b[0;31m---------------------------------------------------------------------------\u001b[0m",
      "\u001b[0;31mKeyError\u001b[0m                                  Traceback (most recent call last)",
      "\u001b[0;32m<ipython-input-1-e3382bbd3397>\u001b[0m in \u001b[0;36m<module>\u001b[0;34m()\u001b[0m\n\u001b[1;32m      5\u001b[0m \u001b[0;34m\u001b[0m\u001b[0m\n\u001b[1;32m      6\u001b[0m \u001b[0;31m#各情報をapp.twitterのアプリから持ってくる\u001b[0m\u001b[0;34m\u001b[0m\u001b[0;34m\u001b[0m\u001b[0m\n\u001b[0;32m----> 7\u001b[0;31m \u001b[0mCONSUMER_KEY\u001b[0m \u001b[0;34m=\u001b[0m \u001b[0mos\u001b[0m\u001b[0;34m.\u001b[0m\u001b[0menviron\u001b[0m\u001b[0;34m[\u001b[0m\u001b[0;34m'TWITTER_COSUMER_KEY'\u001b[0m\u001b[0;34m]\u001b[0m\u001b[0;34m\u001b[0m\u001b[0m\n\u001b[0m\u001b[1;32m      8\u001b[0m \u001b[0mCONSUMER_SECRET\u001b[0m \u001b[0;34m=\u001b[0m \u001b[0mos\u001b[0m\u001b[0;34m.\u001b[0m\u001b[0menviron\u001b[0m\u001b[0;34m[\u001b[0m\u001b[0;34m\"TWITTER_CONSUMER_SECRET\"\u001b[0m\u001b[0;34m]\u001b[0m\u001b[0;34m\u001b[0m\u001b[0m\n\u001b[1;32m      9\u001b[0m \u001b[0mACCESS_TOKEN\u001b[0m \u001b[0;34m=\u001b[0m \u001b[0mos\u001b[0m\u001b[0;34m.\u001b[0m\u001b[0menviron\u001b[0m\u001b[0;34m[\u001b[0m\u001b[0;34m\"TWITTER_ACCESS_TOKEN\"\u001b[0m\u001b[0;34m]\u001b[0m\u001b[0;34m\u001b[0m\u001b[0m\n",
      "\u001b[0;32m/Users/yoshi/anaconda/lib/python3.6/os.py\u001b[0m in \u001b[0;36m__getitem__\u001b[0;34m(self, key)\u001b[0m\n\u001b[1;32m    667\u001b[0m         \u001b[0;32mexcept\u001b[0m \u001b[0mKeyError\u001b[0m\u001b[0;34m:\u001b[0m\u001b[0;34m\u001b[0m\u001b[0m\n\u001b[1;32m    668\u001b[0m             \u001b[0;31m# raise KeyError with the original key value\u001b[0m\u001b[0;34m\u001b[0m\u001b[0;34m\u001b[0m\u001b[0m\n\u001b[0;32m--> 669\u001b[0;31m             \u001b[0;32mraise\u001b[0m \u001b[0mKeyError\u001b[0m\u001b[0;34m(\u001b[0m\u001b[0mkey\u001b[0m\u001b[0;34m)\u001b[0m \u001b[0;32mfrom\u001b[0m \u001b[0;32mNone\u001b[0m\u001b[0;34m\u001b[0m\u001b[0m\n\u001b[0m\u001b[1;32m    670\u001b[0m         \u001b[0;32mreturn\u001b[0m \u001b[0mself\u001b[0m\u001b[0;34m.\u001b[0m\u001b[0mdecodevalue\u001b[0m\u001b[0;34m(\u001b[0m\u001b[0mvalue\u001b[0m\u001b[0;34m)\u001b[0m\u001b[0;34m\u001b[0m\u001b[0m\n\u001b[1;32m    671\u001b[0m \u001b[0;34m\u001b[0m\u001b[0m\n",
      "\u001b[0;31mKeyError\u001b[0m: 'TWITTER_COSUMER_KEY'"
     ]
    }
   ],
   "source": [
    "#coding: UTF-8\n",
    "from requests_oauthlib import OAuth1Session\n",
    "import json\n",
    "import os\n",
    "\n",
    "#各情報をapp.twitterのアプリから持ってくる\n",
    "CONSUMER_KEY = os.environ['TWITTER_COSUMER_KEY']\n",
    "CONSUMER_SECRET = os.environ[\"TWITTER_CONSUMER_SECRET\"]\n",
    "ACCESS_TOKEN = os.environ[\"TWITTER_ACCESS_TOKEN\"]\n",
    "ACCESS_TOKEN_SECRET = os.environ[\"TWITTER_ACCESS_TOKEN_SECRET\"]\n",
    "\n",
    "##タイムラインに追加\n",
    "#params = {\"status\": \"Hello, World!\"}\n",
    "#req = twitter.post(\"https://api.twitter.com/1.1/statuses/update.json\",params = params)\n",
    "\n",
    "twitter = OAuth1Session(CONSUMER_KEY, CONSUMER_SECRET, ACCESS_TOKEN, ACCESS_TOKEN_SECRET)\n",
    "\n",
    "params = {}\n",
    "#タイムラインを取得\n",
    "req = twitter.get(\"https://api.twitter.com/1.1/statuses/home_timeline.json\", params = params)\n",
    "\n",
    "timeline = json.loads(req.text)\n",
    "\n",
    "for tweet in timeline:\n",
    "  print(tweet['text'])\n",
    "  print(tweet['favorite_count'])"
   ]
  },
  {
   "cell_type": "code",
   "execution_count": 22,
   "metadata": {},
   "outputs": [
    {
     "ename": "KeyError",
     "evalue": "'TWITTER_CONSUMER_KEY'",
     "output_type": "error",
     "traceback": [
      "\u001b[0;31m---------------------------------------------------------------------------\u001b[0m",
      "\u001b[0;31mKeyError\u001b[0m                                  Traceback (most recent call last)",
      "\u001b[0;32m<ipython-input-22-0c82dcd235c7>\u001b[0m in \u001b[0;36m<module>\u001b[0;34m()\u001b[0m\n\u001b[0;32m----> 1\u001b[0;31m \u001b[0mos\u001b[0m\u001b[0;34m.\u001b[0m\u001b[0menviron\u001b[0m\u001b[0;34m[\u001b[0m\u001b[0;34m'TWITTER_CONSUMER_KEY'\u001b[0m\u001b[0;34m]\u001b[0m\u001b[0;34m\u001b[0m\u001b[0m\n\u001b[0m",
      "\u001b[0;32m/Users/yoshi/anaconda/lib/python3.6/os.py\u001b[0m in \u001b[0;36m__getitem__\u001b[0;34m(self, key)\u001b[0m\n\u001b[1;32m    667\u001b[0m         \u001b[0;32mexcept\u001b[0m \u001b[0mKeyError\u001b[0m\u001b[0;34m:\u001b[0m\u001b[0;34m\u001b[0m\u001b[0m\n\u001b[1;32m    668\u001b[0m             \u001b[0;31m# raise KeyError with the original key value\u001b[0m\u001b[0;34m\u001b[0m\u001b[0;34m\u001b[0m\u001b[0m\n\u001b[0;32m--> 669\u001b[0;31m             \u001b[0;32mraise\u001b[0m \u001b[0mKeyError\u001b[0m\u001b[0;34m(\u001b[0m\u001b[0mkey\u001b[0m\u001b[0;34m)\u001b[0m \u001b[0;32mfrom\u001b[0m \u001b[0;32mNone\u001b[0m\u001b[0;34m\u001b[0m\u001b[0m\n\u001b[0m\u001b[1;32m    670\u001b[0m         \u001b[0;32mreturn\u001b[0m \u001b[0mself\u001b[0m\u001b[0;34m.\u001b[0m\u001b[0mdecodevalue\u001b[0m\u001b[0;34m(\u001b[0m\u001b[0mvalue\u001b[0m\u001b[0;34m)\u001b[0m\u001b[0;34m\u001b[0m\u001b[0m\n\u001b[1;32m    671\u001b[0m \u001b[0;34m\u001b[0m\u001b[0m\n",
      "\u001b[0;31mKeyError\u001b[0m: 'TWITTER_CONSUMER_KEY'"
     ]
    }
   ],
   "source": [
    "os.environ['TWITTER_CONSUMER_KEY']"
   ]
  },
  {
   "cell_type": "code",
   "execution_count": null,
   "metadata": {
    "collapsed": true
   },
   "outputs": [],
   "source": []
  }
 ],
 "metadata": {
  "kernelspec": {
   "display_name": "Python 3",
   "language": "python",
   "name": "python3"
  },
  "language_info": {
   "codemirror_mode": {
    "name": "ipython",
    "version": 3
   },
   "file_extension": ".py",
   "mimetype": "text/x-python",
   "name": "python",
   "nbconvert_exporter": "python",
   "pygments_lexer": "ipython3",
   "version": "3.6.1"
  }
 },
 "nbformat": 4,
 "nbformat_minor": 2
}
