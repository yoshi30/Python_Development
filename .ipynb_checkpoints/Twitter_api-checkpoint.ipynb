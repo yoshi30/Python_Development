{
 "cells": [
  {
   "cell_type": "markdown",
   "metadata": {},
   "source": [
    "# APIを利用する\n",
    "\n",
    "\n",
    "# APIとは\n",
    "ソフトウェアコンポーネントが互いにやりとりするのに使用するインタフェースの仕様  by wikipedia  \n",
    "既存のソフトウェアの機能を引用する事。  \n",
    "例）twitter APIでは、特定の言葉を含むつぶやきを、簡単に抽出することができる。\n",
    "\n",
    "\n",
    "## APIを利用するにあたってやること\n",
    "* macの場合：システム環境設定->日付と時刻　から自動的に設定するURLを ntp.jst.mfeed.ad.jp にする.\n",
    "* http://app.twitter.com でアプリケーションを作成\n",
    "    * website callback　のURLも適当でいいので必ず記入する\n",
    "* アクセストークンを作成する\n",
    "* requests_oauthlib ライブラリをインストールする\n",
    "    * $ pip install requests_oauthlib など \n",
    "* アプリのconsumer_keyやaccess_tokenを使って実装をする.\n",
    "\n",
    "## やること\n",
    "* タイムラインを取得してみる\n",
    "* タイムラインにツイートしてみる\n",
    "* タイムラインから特定のコメントがあるツイートのみを取得する\n",
    "* 特定のユーザーのツイートを取得してくる\n",
    "\n",
    "## 参考サイト\n",
    "* Twitterアプリでの操作方法など：http://qiita.com/konojunya/items/59a68d35e44db8b87186\n",
    "* 実装コードなど：http://qiita.com/yubais/items/dd143fe608ccad8e9f85\n",
    "\n",
    "## その他のライブラリに関して\n",
    "Tweepyなど,pythonライブラリの中にはTwitterAPIを簡単に使えるようなものがあります.  \n",
    "よかったら使ってみてください.\n",
    "http://www.statsbeginner.net/entry/2015/10/21/131717"
   ]
  },
  {
   "cell_type": "markdown",
   "metadata": {},
   "source": [
    "## タイムラインに表示されているツイート内容とファボ数を表示"
   ]
  },
  {
   "cell_type": "markdown",
   "metadata": {},
   "source": [
    "#coding: UTF-8\n",
    "from requests_oauthlib import OAuth1Session\n",
    "import json\n",
    "import os\n",
    "\n",
    "#各情報をapp.twitterのアプリから持ってくる\n",
    "CONSUMER_KEY = os.environ['TWITTER_COSUMER_KEY']\n",
    "CONSUMER_SECRET = os.environ[\"TWITTER_CONSUMER_SECRET\"]\n",
    "ACCESS_TOKEN = os.environ[\"TWITTER_ACCESS_TOKEN\"]\n",
    "ACCESS_TOKEN_SECRET = os.environ[\"TWITTER_ACCESS_TOKEN_SECRET\"]\n",
    "\n",
    "twitter = OAuth1Session(CONSUMER_KEY, CONSUMER_SECRET, ACCESS_TOKEN, ACCESS_TOKEN_SECRET)\n",
    "\n",
    "params = {}\n",
    "#タイムラインを取得\n",
    "req = twitter.get(\"https://api.twitter.com/1.1/statuses/home_timeline.json\", params = params)\n",
    "\n",
    "timeline = json.loads(req.text)\n",
    "\n",
    "for tweet in timeline:\n",
    "  print(tweet['text'])\n",
    "  print(tweet['favorite_count'])"
   ]
  },
  {
   "cell_type": "markdown",
   "metadata": {
    "collapsed": true
   },
   "source": [
    "# APIを利用してできることを考えよう\n",
    "\n",
    "【最適なマッチングアプリの作成】SNSから得た情報からパーソナリティを調査して、最適（結婚）な相手をマッチングするアプリ。  \n",
    "集めるプロフィール情報  \n",
    "・つぶやき、プロフィール(Twitter,FB,instagram)  \n",
    "・顔、写真(Twitter,FB,instagram)  \n",
    "・年収  \n",
    "・恋愛歴  \n",
    "※年収と恋愛歴は収集が難しい  \n",
    "\n",
    "手順概要  \n",
    "①SNSのログイン情報を取得する。  \n",
    "②SNS上のテキストデータ（プロフィールやつぶやき）をテキスト抽出する。投稿写真を画像抽出する。  \n",
    "③テキスト解析API,画像解析APIを使って、投稿内容からどのような性格、嗜好を持つ人なのか解析する。(IBM Bluemixでは顔や表情で性格や思考が判別\n",
    "できる)  \n",
    "④TinderAPI使って、同じ特性を持つ人同士のマッチング。  \n",
    "※ゼクシィのコラムなどをスクレイビングして、マッチングの判断材料としても良い。"
   ]
  }
 ],
 "metadata": {
  "kernelspec": {
   "display_name": "Python 3",
   "language": "python",
   "name": "python3"
  },
  "language_info": {
   "codemirror_mode": {
    "name": "ipython",
    "version": 3
   },
   "file_extension": ".py",
   "mimetype": "text/x-python",
   "name": "python",
   "nbconvert_exporter": "python",
   "pygments_lexer": "ipython3",
   "version": "3.6.1"
  }
 },
 "nbformat": 4,
 "nbformat_minor": 2
}
